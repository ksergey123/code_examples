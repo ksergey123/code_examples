{
 "cells": [
  {
   "cell_type": "markdown",
   "metadata": {
    "id": "VDIqOvX9XO6n"
   },
   "source": [
    "# Imports"
   ]
  },
  {
   "cell_type": "code",
   "execution_count": 16,
   "metadata": {
    "colab": {
     "base_uri": "https://localhost:8080/"
    },
    "executionInfo": {
     "elapsed": 4263,
     "status": "ok",
     "timestamp": 1607248959342,
     "user": {
      "displayName": "Сергей Кочеров",
      "photoUrl": "",
      "userId": "00723464025274035118"
     },
     "user_tz": -180
    },
    "id": "eNqt3BoSXO6o",
    "outputId": "e5144961-0ca0-4429-8db4-5c4191568820"
   },
   "outputs": [],
   "source": [
    "import pandas as pd\n",
    "import numpy as np\n",
    "import seaborn as sns\n",
    "import random\n",
    "\n",
    "import joblib\n",
    "\n",
    "from sklearn.linear_model import LogisticRegression\n",
    "from sklearn.ensemble import RandomForestClassifier\n",
    "from sklearn.model_selection import train_test_split, GridSearchCV\n",
    "from sklearn.feature_extraction.text import TfidfVectorizer, CountVectorizer\n",
    "from sklearn.metrics import roc_auc_score, f1_score, auc, accuracy_score\n",
    "\n",
    "#!pip install catboost\n",
    "from catboost import CatBoostClassifier\n",
    "\n",
    "\n",
    "SEED = 42\n",
    "random.seed(SEED)\n",
    "np.random.seed(SEED)"
   ]
  },
  {
   "cell_type": "markdown",
   "metadata": {
    "id": "j0gyOx0TXO6p"
   },
   "source": [
    "# Functions"
   ]
  },
  {
   "cell_type": "code",
   "execution_count": 2,
   "metadata": {
    "executionInfo": {
     "elapsed": 4250,
     "status": "ok",
     "timestamp": 1607248959346,
     "user": {
      "displayName": "Сергей Кочеров",
      "photoUrl": "",
      "userId": "00723464025274035118"
     },
     "user_tz": -180
    },
    "id": "qsoP8DXNXO6p"
   },
   "outputs": [],
   "source": [
    "def accuracy_by_label(y_true, y_pred, full_accuracy = True):\n",
    "    \n",
    "    if full_accuracy:\n",
    "        print(f'Full accuracy: {accuracy_score(y_true, y_pred)}')\n",
    "    \n",
    "    labels = np.unique(y_true)\n",
    "    \n",
    "    for label in labels:\n",
    "        label_indices = (y_true == label).nonzero()[0]\n",
    "        y_true_label = y_true[label_indices]\n",
    "        y_pred_label = y_pred[label_indices]\n",
    "        print(f'Label \"{label}\" \\t| Accuracy: {accuracy_score(y_true_label, y_pred_label)}')"
   ]
  },
  {
   "cell_type": "markdown",
   "metadata": {
    "id": "l9oYHy2vXO6p"
   },
   "source": [
    "# Data loading"
   ]
  },
  {
   "cell_type": "code",
   "execution_count": 3,
   "metadata": {
    "executionInfo": {
     "elapsed": 4240,
     "status": "ok",
     "timestamp": 1607248959349,
     "user": {
      "displayName": "Сергей Кочеров",
      "photoUrl": "",
      "userId": "00723464025274035118"
     },
     "user_tz": -180
    },
    "id": "4Uh-p6UKXzev"
   },
   "outputs": [],
   "source": [
    "russian_news_sentiment_path = '../data/external/russian_news_sentiment.json'\n",
    "news_with_target_path = '../data/processed/news_with_target.csv'"
   ]
  },
  {
   "cell_type": "code",
   "execution_count": 4,
   "metadata": {
    "colab": {
     "base_uri": "https://localhost:8080/",
     "height": 194
    },
    "executionInfo": {
     "elapsed": 5161,
     "status": "ok",
     "timestamp": 1607248960292,
     "user": {
      "displayName": "Сергей Кочеров",
      "photoUrl": "",
      "userId": "00723464025274035118"
     },
     "user_tz": -180
    },
    "id": "m8VX6uGiXO6q",
    "outputId": "872d8e25-758b-4c45-bb8a-b88c1e7265c2"
   },
   "outputs": [
    {
     "data": {
      "text/html": [
       "<div>\n",
       "<style scoped>\n",
       "    .dataframe tbody tr th:only-of-type {\n",
       "        vertical-align: middle;\n",
       "    }\n",
       "\n",
       "    .dataframe tbody tr th {\n",
       "        vertical-align: top;\n",
       "    }\n",
       "\n",
       "    .dataframe thead th {\n",
       "        text-align: right;\n",
       "    }\n",
       "</style>\n",
       "<table border=\"1\" class=\"dataframe\">\n",
       "  <thead>\n",
       "    <tr style=\"text-align: right;\">\n",
       "      <th></th>\n",
       "      <th>text</th>\n",
       "      <th>sentiment</th>\n",
       "    </tr>\n",
       "  </thead>\n",
       "  <tbody>\n",
       "    <tr>\n",
       "      <th>0</th>\n",
       "      <td>Досудебное расследование по факту покупки ЕНПФ...</td>\n",
       "      <td>-1</td>\n",
       "    </tr>\n",
       "    <tr>\n",
       "      <th>1</th>\n",
       "      <td>Медики рассказали о состоянии пострадавшего му...</td>\n",
       "      <td>-1</td>\n",
       "    </tr>\n",
       "    <tr>\n",
       "      <th>2</th>\n",
       "      <td>Прошел почти год, как железнодорожным оператор...</td>\n",
       "      <td>-1</td>\n",
       "    </tr>\n",
       "    <tr>\n",
       "      <th>3</th>\n",
       "      <td>По итогам 12 месяцев 2016 года на территории р...</td>\n",
       "      <td>-1</td>\n",
       "    </tr>\n",
       "    <tr>\n",
       "      <th>4</th>\n",
       "      <td>Астана. 21 ноября. Kazakhstan Today - Агентств...</td>\n",
       "      <td>-1</td>\n",
       "    </tr>\n",
       "  </tbody>\n",
       "</table>\n",
       "</div>"
      ],
      "text/plain": [
       "                                                text  sentiment\n",
       "0  Досудебное расследование по факту покупки ЕНПФ...         -1\n",
       "1  Медики рассказали о состоянии пострадавшего му...         -1\n",
       "2  Прошел почти год, как железнодорожным оператор...         -1\n",
       "3  По итогам 12 месяцев 2016 года на территории р...         -1\n",
       "4  Астана. 21 ноября. Kazakhstan Today - Агентств...         -1"
      ]
     },
     "execution_count": 4,
     "metadata": {},
     "output_type": "execute_result"
    }
   ],
   "source": [
    "# Внешние данные\n",
    "russian_news_sentiment = pd.read_json(russian_news_sentiment_path)\n",
    "russian_news_sentiment['sentiment'] = russian_news_sentiment['sentiment'].map({'negative': -1, 'neutral': 0, 'positive': 1}) \n",
    "russian_news_sentiment = russian_news_sentiment[['text','sentiment']]\n",
    "russian_news_sentiment.head()"
   ]
  },
  {
   "cell_type": "code",
   "execution_count": 5,
   "metadata": {
    "colab": {
     "base_uri": "https://localhost:8080/",
     "height": 194
    },
    "executionInfo": {
     "elapsed": 5143,
     "status": "ok",
     "timestamp": 1607248960295,
     "user": {
      "displayName": "Сергей Кочеров",
      "photoUrl": "",
      "userId": "00723464025274035118"
     },
     "user_tz": -180
    },
    "id": "ObHl6f6cXO6u",
    "outputId": "08c6bee8-5f00-4527-a525-19af9205c025"
   },
   "outputs": [
    {
     "data": {
      "text/html": [
       "<div>\n",
       "<style scoped>\n",
       "    .dataframe tbody tr th:only-of-type {\n",
       "        vertical-align: middle;\n",
       "    }\n",
       "\n",
       "    .dataframe tbody tr th {\n",
       "        vertical-align: top;\n",
       "    }\n",
       "\n",
       "    .dataframe thead th {\n",
       "        text-align: right;\n",
       "    }\n",
       "</style>\n",
       "<table border=\"1\" class=\"dataframe\">\n",
       "  <thead>\n",
       "    <tr style=\"text-align: right;\">\n",
       "      <th></th>\n",
       "      <th>text</th>\n",
       "      <th>sentiment</th>\n",
       "    </tr>\n",
       "  </thead>\n",
       "  <tbody>\n",
       "    <tr>\n",
       "      <th>0</th>\n",
       "      <td>​Росалкогольрегулирование (РАР) направило «Янд...</td>\n",
       "      <td>0</td>\n",
       "    </tr>\n",
       "    <tr>\n",
       "      <th>1</th>\n",
       "      <td>В пресс-службе «Яндекса» заявили РБК, что дата...</td>\n",
       "      <td>0</td>\n",
       "    </tr>\n",
       "    <tr>\n",
       "      <th>2</th>\n",
       "      <td>Во вторник, 23 июля, группа сенаторов во главе...</td>\n",
       "      <td>0</td>\n",
       "    </tr>\n",
       "    <tr>\n",
       "      <th>3</th>\n",
       "      <td>Совет директоров Yandex N.V. (головная компани...</td>\n",
       "      <td>1</td>\n",
       "    </tr>\n",
       "    <tr>\n",
       "      <th>4</th>\n",
       "      <td>Аналитики компании Group-IB, специализирующейс...</td>\n",
       "      <td>-1</td>\n",
       "    </tr>\n",
       "  </tbody>\n",
       "</table>\n",
       "</div>"
      ],
      "text/plain": [
       "                                                text  sentiment\n",
       "0  ​Росалкогольрегулирование (РАР) направило «Янд...          0\n",
       "1  В пресс-службе «Яндекса» заявили РБК, что дата...          0\n",
       "2  Во вторник, 23 июля, группа сенаторов во главе...          0\n",
       "3  Совет директоров Yandex N.V. (головная компани...          1\n",
       "4  Аналитики компании Group-IB, специализирующейс...         -1"
      ]
     },
     "execution_count": 5,
     "metadata": {},
     "output_type": "execute_result"
    }
   ],
   "source": [
    "# Размеченные данные\n",
    "news_with_target = pd.read_csv(news_with_target_path)\n",
    "news_with_target = news_with_target[['content','target']]\n",
    "news_with_target.columns = ['text','sentiment']\n",
    "news_with_target = news_with_target.dropna()\n",
    "news_with_target.head()"
   ]
  },
  {
   "cell_type": "code",
   "execution_count": 6,
   "metadata": {
    "colab": {
     "base_uri": "https://localhost:8080/",
     "height": 194
    },
    "executionInfo": {
     "elapsed": 5125,
     "status": "ok",
     "timestamp": 1607248960298,
     "user": {
      "displayName": "Сергей Кочеров",
      "photoUrl": "",
      "userId": "00723464025274035118"
     },
     "user_tz": -180
    },
    "id": "7kG3jpTpXO6u",
    "outputId": "9f51cbf3-fd07-4572-b421-afb28f526920"
   },
   "outputs": [
    {
     "data": {
      "text/html": [
       "<div>\n",
       "<style scoped>\n",
       "    .dataframe tbody tr th:only-of-type {\n",
       "        vertical-align: middle;\n",
       "    }\n",
       "\n",
       "    .dataframe tbody tr th {\n",
       "        vertical-align: top;\n",
       "    }\n",
       "\n",
       "    .dataframe thead th {\n",
       "        text-align: right;\n",
       "    }\n",
       "</style>\n",
       "<table border=\"1\" class=\"dataframe\">\n",
       "  <thead>\n",
       "    <tr style=\"text-align: right;\">\n",
       "      <th></th>\n",
       "      <th>text</th>\n",
       "      <th>sentiment</th>\n",
       "    </tr>\n",
       "  </thead>\n",
       "  <tbody>\n",
       "    <tr>\n",
       "      <th>0</th>\n",
       "      <td>Досудебное расследование по факту покупки ЕНПФ...</td>\n",
       "      <td>-1</td>\n",
       "    </tr>\n",
       "    <tr>\n",
       "      <th>1</th>\n",
       "      <td>Медики рассказали о состоянии пострадавшего му...</td>\n",
       "      <td>-1</td>\n",
       "    </tr>\n",
       "    <tr>\n",
       "      <th>2</th>\n",
       "      <td>Прошел почти год, как железнодорожным оператор...</td>\n",
       "      <td>-1</td>\n",
       "    </tr>\n",
       "    <tr>\n",
       "      <th>3</th>\n",
       "      <td>По итогам 12 месяцев 2016 года на территории р...</td>\n",
       "      <td>-1</td>\n",
       "    </tr>\n",
       "    <tr>\n",
       "      <th>4</th>\n",
       "      <td>Астана. 21 ноября. Kazakhstan Today - Агентств...</td>\n",
       "      <td>-1</td>\n",
       "    </tr>\n",
       "  </tbody>\n",
       "</table>\n",
       "</div>"
      ],
      "text/plain": [
       "                                                text  sentiment\n",
       "0  Досудебное расследование по факту покупки ЕНПФ...         -1\n",
       "1  Медики рассказали о состоянии пострадавшего му...         -1\n",
       "2  Прошел почти год, как железнодорожным оператор...         -1\n",
       "3  По итогам 12 месяцев 2016 года на территории р...         -1\n",
       "4  Астана. 21 ноября. Kazakhstan Today - Агентств...         -1"
      ]
     },
     "execution_count": 6,
     "metadata": {},
     "output_type": "execute_result"
    }
   ],
   "source": [
    "# Объединение датасетов в один\n",
    "text_sentiment_df = pd.concat((russian_news_sentiment, news_with_target))\n",
    "text_sentiment_df = text_sentiment_df[text_sentiment_df['sentiment'].isin([-1,1])]\n",
    "text_sentiment_df.head()"
   ]
  },
  {
   "cell_type": "markdown",
   "metadata": {
    "id": "4wfSHL3UXO6v"
   },
   "source": [
    "# Datasets for models"
   ]
  },
  {
   "cell_type": "code",
   "execution_count": 7,
   "metadata": {
    "colab": {
     "base_uri": "https://localhost:8080/"
    },
    "executionInfo": {
     "elapsed": 5109,
     "status": "ok",
     "timestamp": 1607248960302,
     "user": {
      "displayName": "Сергей Кочеров",
      "photoUrl": "",
      "userId": "00723464025274035118"
     },
     "user_tz": -180
    },
    "id": "drwf1oXlXO6v",
    "outputId": "b78feb40-0286-41f8-929a-a7aca2ecab01"
   },
   "outputs": [
    {
     "name": "stdout",
     "output_type": "stream",
     "text": [
      "X_train (3664,) | y_train (3664,)\n",
      "X_val (825,) | y_val (825,)\n",
      "X_test (92,) | y_test (92,)\n"
     ]
    }
   ],
   "source": [
    "X = text_sentiment_df['text'].to_numpy()\n",
    "y = text_sentiment_df['sentiment'].to_numpy()\n",
    "\n",
    "# Выделяем 80% на train и 20% на проверку (10% на test и 10% на validation)\n",
    "X_train, X_check, y_train, y_check = train_test_split(X, y, test_size=0.2, random_state=SEED)\n",
    "\n",
    "# 10% на test и 10% на validation (по 50% от 20% В X_check, y_check)\n",
    "X_val, X_test, y_val, y_test = train_test_split(X_check, y_check, test_size=0.1, random_state=SEED)\n",
    "\n",
    "\n",
    "print(f'X_train {X_train.shape} | y_train {y_train.shape}')\n",
    "print(f'X_val {X_val.shape} | y_val {y_val.shape}')\n",
    "print(f'X_test {X_test.shape} | y_test {y_test.shape}')"
   ]
  },
  {
   "cell_type": "markdown",
   "metadata": {
    "id": "7FIZmNJcXO6w"
   },
   "source": [
    "# Features"
   ]
  },
  {
   "cell_type": "markdown",
   "metadata": {
    "id": "uIQjkepdXO6w"
   },
   "source": [
    "### Count Vectorizer"
   ]
  },
  {
   "cell_type": "code",
   "execution_count": 8,
   "metadata": {
    "executionInfo": {
     "elapsed": 7091,
     "status": "ok",
     "timestamp": 1607248962300,
     "user": {
      "displayName": "Сергей Кочеров",
      "photoUrl": "",
      "userId": "00723464025274035118"
     },
     "user_tz": -180
    },
    "id": "R5DT2mEaXO6w"
   },
   "outputs": [],
   "source": [
    "count_vectorizer = CountVectorizer(max_features=1000, min_df=5)\n",
    "\n",
    "X_train_count = count_vectorizer.fit_transform(X_train)\n",
    "X_val_count = count_vectorizer.transform(X_val)\n",
    "X_test_count = count_vectorizer.transform(X_test)"
   ]
  },
  {
   "cell_type": "markdown",
   "metadata": {
    "id": "nyNAvS1yXO6w"
   },
   "source": [
    "### TF-IDF Vectorizer"
   ]
  },
  {
   "cell_type": "code",
   "execution_count": 9,
   "metadata": {
    "executionInfo": {
     "elapsed": 2464,
     "status": "ok",
     "timestamp": 1607248996833,
     "user": {
      "displayName": "Сергей Кочеров",
      "photoUrl": "",
      "userId": "00723464025274035118"
     },
     "user_tz": -180
    },
    "id": "hQRgZ-f4XO6w"
   },
   "outputs": [],
   "source": [
    "tf_idf_vectorizer = TfidfVectorizer(max_features=1000, min_df=5)\n",
    "\n",
    "X_train_tf_idf = tf_idf_vectorizer.fit_transform(X_train)\n",
    "X_val_tf_idf = tf_idf_vectorizer.transform(X_val)\n",
    "X_test_tf_idf = tf_idf_vectorizer.transform(X_test)"
   ]
  },
  {
   "cell_type": "markdown",
   "metadata": {
    "id": "bojmpZZLXO6w"
   },
   "source": [
    "# Models"
   ]
  },
  {
   "cell_type": "markdown",
   "metadata": {
    "id": "VcZ0Yvs7XO6w"
   },
   "source": [
    "## Logistic Regression"
   ]
  },
  {
   "cell_type": "markdown",
   "metadata": {
    "id": "Pks2RvpKXO6w"
   },
   "source": [
    "### (Count Vectorizer)"
   ]
  },
  {
   "cell_type": "code",
   "execution_count": 10,
   "metadata": {
    "colab": {
     "base_uri": "https://localhost:8080/"
    },
    "executionInfo": {
     "elapsed": 61922,
     "status": "ok",
     "timestamp": 1607246953441,
     "user": {
      "displayName": "Сергей Кочеров",
      "photoUrl": "",
      "userId": "00723464025274035118"
     },
     "user_tz": -180
    },
    "id": "zB0uOahLXO6w",
    "outputId": "f14bfe82-aac9-457a-8cd6-ceaab5b4c6af"
   },
   "outputs": [
    {
     "name": "stdout",
     "output_type": "stream",
     "text": [
      "Fitting 5 folds for each of 40 candidates, totalling 200 fits\n"
     ]
    },
    {
     "name": "stderr",
     "output_type": "stream",
     "text": [
      "[Parallel(n_jobs=-1)]: Using backend LokyBackend with 8 concurrent workers.\n",
      "[Parallel(n_jobs=-1)]: Done  34 tasks      | elapsed:    7.7s\n",
      "[Parallel(n_jobs=-1)]: Done 184 tasks      | elapsed:   34.5s\n",
      "[Parallel(n_jobs=-1)]: Done 200 out of 200 | elapsed:   37.1s finished\n"
     ]
    },
    {
     "name": "stdout",
     "output_type": "stream",
     "text": [
      "Accuracy:  0.841430903764006\n",
      "Best_params:  {'C': 1.0, 'solver': 'liblinear'}\n"
     ]
    }
   ],
   "source": [
    "logit_count = LogisticRegression(random_state=SEED, max_iter = 200)\n",
    "\n",
    "logit_count_grid_searcher = GridSearchCV(estimator=logit_count, \n",
    "                                   param_grid={\n",
    "                                       'C': np.linspace(1,30,20),\n",
    "                                       'solver':['liblinear','lbfgs']\n",
    "                                   },\n",
    "                                   scoring='accuracy',\n",
    "                                   n_jobs=-1,\n",
    "                                   cv=5,\n",
    "                                   verbose=1\n",
    "                                  )\n",
    "\n",
    "logit_count_grid_searcher.fit(X_train_count, y_train)\n",
    "print('Accuracy: ', logit_count_grid_searcher.best_score_)\n",
    "print('Best_params: ', logit_count_grid_searcher.best_params_)"
   ]
  },
  {
   "cell_type": "code",
   "execution_count": 11,
   "metadata": {
    "colab": {
     "base_uri": "https://localhost:8080/"
    },
    "executionInfo": {
     "elapsed": 61714,
     "status": "ok",
     "timestamp": 1607246953444,
     "user": {
      "displayName": "Сергей Кочеров",
      "photoUrl": "",
      "userId": "00723464025274035118"
     },
     "user_tz": -180
    },
    "id": "tg-3eChMXO6x",
    "outputId": "d9a87e53-b7f2-4868-e0ee-06d243096f12"
   },
   "outputs": [
    {
     "name": "stdout",
     "output_type": "stream",
     "text": [
      "Full accuracy: 0.833939393939394\n",
      "Label \"-1\" \t| Accuracy: 0.7395833333333334\n",
      "Label \"1\" \t| Accuracy: 0.8845437616387337\n"
     ]
    }
   ],
   "source": [
    "logit_count_prediction_val = logit_count_grid_searcher.predict(X_val_count)\n",
    "accuracy_by_label(y_val, logit_count_prediction_val)"
   ]
  },
  {
   "cell_type": "markdown",
   "metadata": {
    "id": "fZNq5MncXO6x"
   },
   "source": [
    "### (TF-IDF Vectorizer)"
   ]
  },
  {
   "cell_type": "code",
   "execution_count": 12,
   "metadata": {
    "colab": {
     "base_uri": "https://localhost:8080/"
    },
    "executionInfo": {
     "elapsed": 76050,
     "status": "ok",
     "timestamp": 1607246968600,
     "user": {
      "displayName": "Сергей Кочеров",
      "photoUrl": "",
      "userId": "00723464025274035118"
     },
     "user_tz": -180
    },
    "id": "QQOma3FOXO6x",
    "outputId": "f99ad9eb-bdb0-4737-9d23-9630e5b6654a",
    "scrolled": true
   },
   "outputs": [
    {
     "name": "stdout",
     "output_type": "stream",
     "text": [
      "Fitting 5 folds for each of 40 candidates, totalling 200 fits\n"
     ]
    },
    {
     "name": "stderr",
     "output_type": "stream",
     "text": [
      "[Parallel(n_jobs=-1)]: Using backend LokyBackend with 8 concurrent workers.\n",
      "[Parallel(n_jobs=-1)]: Done  52 tasks      | elapsed:    1.7s\n",
      "[Parallel(n_jobs=-1)]: Done 185 out of 200 | elapsed:    6.9s remaining:    0.5s\n"
     ]
    },
    {
     "name": "stdout",
     "output_type": "stream",
     "text": [
      "Accuracy:  0.8662700631434557\n",
      "Best_params:  {'C': 2.526315789473684, 'solver': 'liblinear'}\n"
     ]
    },
    {
     "name": "stderr",
     "output_type": "stream",
     "text": [
      "[Parallel(n_jobs=-1)]: Done 200 out of 200 | elapsed:    7.2s finished\n"
     ]
    }
   ],
   "source": [
    "logit_tfidf = LogisticRegression(random_state=SEED, max_iter = 100)\n",
    "\n",
    "logit_tfidf_grid_searcher = GridSearchCV(estimator=logit_tfidf, \n",
    "                                   param_grid={\n",
    "                                       'C': np.linspace(1,30,20),\n",
    "                                       'solver':['liblinear','lbfgs']\n",
    "                                   },\n",
    "                                   scoring='accuracy',\n",
    "                                   n_jobs=-1,\n",
    "                                   cv=5,\n",
    "                                   verbose=1\n",
    "                                  )\n",
    "\n",
    "logit_tfidf_grid_searcher.fit(X_train_tf_idf, y_train)\n",
    "print('Accuracy: ', logit_tfidf_grid_searcher.best_score_)\n",
    "print('Best_params: ', logit_tfidf_grid_searcher.best_params_)"
   ]
  },
  {
   "cell_type": "code",
   "execution_count": 13,
   "metadata": {
    "colab": {
     "base_uri": "https://localhost:8080/"
    },
    "executionInfo": {
     "elapsed": 73352,
     "status": "ok",
     "timestamp": 1607246968603,
     "user": {
      "displayName": "Сергей Кочеров",
      "photoUrl": "",
      "userId": "00723464025274035118"
     },
     "user_tz": -180
    },
    "id": "TeiTjFBDXO6y",
    "outputId": "e49c842f-ea0c-41bb-d717-b302b7091f0b"
   },
   "outputs": [
    {
     "name": "stdout",
     "output_type": "stream",
     "text": [
      "Full accuracy: 0.8557575757575757\n",
      "Label \"-1\" \t| Accuracy: 0.7118055555555556\n",
      "Label \"1\" \t| Accuracy: 0.9329608938547486\n"
     ]
    }
   ],
   "source": [
    "logit_tfidf_prediction_val = logit_tfidf_grid_searcher.predict(X_val_tf_idf)\n",
    "accuracy_by_label(y_val, logit_tfidf_prediction_val)"
   ]
  },
  {
   "cell_type": "markdown",
   "metadata": {
    "id": "sdb2CQPUXO60"
   },
   "source": [
    "## CatBoostClassifier"
   ]
  },
  {
   "cell_type": "markdown",
   "metadata": {
    "id": "XT9e3ACdZIeq"
   },
   "source": [
    "### (Count Vectorizer)"
   ]
  },
  {
   "cell_type": "code",
   "execution_count": 14,
   "metadata": {
    "id": "9kx8pQAnXO60"
   },
   "outputs": [
    {
     "data": {
      "text/plain": [
       "<catboost.core.CatBoostClassifier at 0x13715608850>"
      ]
     },
     "execution_count": 14,
     "metadata": {},
     "output_type": "execute_result"
    }
   ],
   "source": [
    "cbc_count = CatBoostClassifier(verbose=False)\n",
    "cbc_count.fit(X_train_count, y_train)"
   ]
  },
  {
   "cell_type": "code",
   "execution_count": 15,
   "metadata": {},
   "outputs": [
    {
     "name": "stdout",
     "output_type": "stream",
     "text": [
      "Full accuracy: 0.8581818181818182\n",
      "Label \"-1\" \t| Accuracy: 0.71875\n",
      "Label \"1\" \t| Accuracy: 0.9329608938547486\n"
     ]
    }
   ],
   "source": [
    "cbc_count_prediction_val = cbc_count.predict(X_val_count)\n",
    "accuracy_by_label(y_val, cbc_count_prediction_val)"
   ]
  }
 ],
 "metadata": {
  "colab": {
   "authorship_tag": "ABX9TyMKWuvgiGbQoIZ1PJ1GhxWx",
   "collapsed_sections": [],
   "mount_file_id": "1isx8e5ZBRFW7QP19FE-gBaIEwQA1LDPf",
   "name": "3. sentiment_model.ipynb",
   "provenance": [],
   "toc_visible": true
  },
  "kernelspec": {
   "display_name": "Python 3",
   "language": "python",
   "name": "python3"
  },
  "language_info": {
   "codemirror_mode": {
    "name": "ipython",
    "version": 3
   },
   "file_extension": ".py",
   "mimetype": "text/x-python",
   "name": "python",
   "nbconvert_exporter": "python",
   "pygments_lexer": "ipython3",
   "version": "3.7.4"
  }
 },
 "nbformat": 4,
 "nbformat_minor": 1
}
