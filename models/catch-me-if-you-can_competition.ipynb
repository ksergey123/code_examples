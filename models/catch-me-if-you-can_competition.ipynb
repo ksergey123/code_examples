{
 "cells": [
  {
   "cell_type": "markdown",
   "metadata": {},
   "source": [
    "# Задача : идентификации взломщика по его поведению в сети Интернет\n",
    "https://www.kaggle.com/c/catch-me-if-you-can-intruder-detection-through-webpage-session-tracking2"
   ]
  },
  {
   "cell_type": "markdown",
   "metadata": {},
   "source": [
    "# Импорт"
   ]
  },
  {
   "cell_type": "code",
   "execution_count": 1,
   "metadata": {},
   "outputs": [],
   "source": [
    "import pandas as pd\n",
    "import numpy as np\n",
    "#!pip install category_encoders\n",
    "import category_encoders as ce\n",
    "import pickle\n",
    "import re\n",
    "#!pip install tldextract\n",
    "#import tldextract\n",
    "import os\n",
    "\n",
    "from sklearn.base import BaseEstimator, TransformerMixin\n",
    "from sklearn.pipeline import Pipeline\n",
    "from sklearn.pipeline import FeatureUnion\n",
    "from sklearn.feature_extraction.text import TfidfVectorizer, CountVectorizer\n",
    "from sklearn.preprocessing import normalize, OneHotEncoder\n",
    "from sklearn.model_selection import TimeSeriesSplit, cross_val_score, train_test_split, GridSearchCV, RandomizedSearchCV\n",
    "from sklearn.metrics import roc_auc_score, classification_report\n",
    "from sklearn.linear_model import LogisticRegression\n",
    "from sklearn.tree import DecisionTreeClassifier\n",
    "from sklearn.ensemble import RandomForestClassifier\n",
    "from sklearn.ensemble import GradientBoostingClassifier\n",
    "#from lightgbm import LGBMClassifier\n",
    "from sklearn.svm import LinearSVC\n",
    "#from catboost import CatBoostClassifier\n",
    "\n",
    "import seaborn as sns\n",
    "import matplotlib.pyplot as plt\n",
    "%matplotlib inline\n",
    "\n",
    "pd.set_option('display.max_rows', 500)\n",
    "pd.set_option('display.max_columns', 500)\n",
    "pd.set_option('display.width', 1000)"
   ]
  },
  {
   "cell_type": "markdown",
   "metadata": {},
   "source": [
    "# Загрузка данных"
   ]
  },
  {
   "cell_type": "code",
   "execution_count": 2,
   "metadata": {},
   "outputs": [],
   "source": [
    "#os.chdir('/kaggle/input/catch-me-if-you-can-intruder-detection-through-webpage-session-tracking2/')"
   ]
  },
  {
   "cell_type": "code",
   "execution_count": 3,
   "metadata": {},
   "outputs": [],
   "source": [
    "# Загрузка информации о сессиях, приведение признаков к формату datetime, установка индекса\n",
    "df_train = pd.read_csv('train_sessions.csv', parse_dates=['time'+str(i) for i in range(1,11)], index_col='session_id')\n",
    "df_test = pd.read_csv('test_sessions.csv', parse_dates=['time'+str(i) for i in range(1,11)], index_col='session_id')\n",
    "\n",
    "# Сортировка данных по дате\n",
    "df_train.sort_values(by = 'time1', inplace = True)"
   ]
  },
  {
   "cell_type": "code",
   "execution_count": 4,
   "metadata": {},
   "outputs": [],
   "source": [
    "# Загрузка словаря site:id_site и приведение его к формату id_site:site\n",
    "with open('site_dic.pkl', 'rb') as file:\n",
    "        site_id = pickle.load(file)   \n",
    "        id_site = {v:k for k, v in site_id.items()}\n",
    "        id_site[0] = 'unknown'\n",
    "        del site_id"
   ]
  },
  {
   "cell_type": "code",
   "execution_count": 5,
   "metadata": {},
   "outputs": [
    {
     "name": "stdout",
     "output_type": "stream",
     "text": [
      "(25075, 'www.abmecatronique.com')\n",
      "(13997, 'groups.live.com')\n",
      "(42436, 'majeureliguefootball.wordpress.com')\n",
      "(30911, 'cdt46.media.tourinsoft.eu')\n",
      "(8104, 'www.hdwallpapers.eu')\n",
      "(37491, 'img378.imageshack.us')\n",
      "(5462, 'ecologie.nature.free.fr')\n",
      "(35425, 'www.ibcn.intec.ugent.be')\n",
      "(30151, 'kissanime.com')\n",
      "(38268, 'www.carolineconduiteformation.com')\n",
      "(43641, 'images.mystockphoto.com')\n"
     ]
    }
   ],
   "source": [
    "# Словарь id_site:site\n",
    "for index, kv in enumerate(id_site.items()):\n",
    "    print(kv)\n",
    "    \n",
    "    if index == 10:\n",
    "        break"
   ]
  },
  {
   "cell_type": "markdown",
   "metadata": {},
   "source": [
    "# Анализ данных"
   ]
  },
  {
   "cell_type": "code",
   "execution_count": 6,
   "metadata": {},
   "outputs": [
    {
     "data": {
      "text/html": [
       "<div>\n",
       "<style scoped>\n",
       "    .dataframe tbody tr th:only-of-type {\n",
       "        vertical-align: middle;\n",
       "    }\n",
       "\n",
       "    .dataframe tbody tr th {\n",
       "        vertical-align: top;\n",
       "    }\n",
       "\n",
       "    .dataframe thead th {\n",
       "        text-align: right;\n",
       "    }\n",
       "</style>\n",
       "<table border=\"1\" class=\"dataframe\">\n",
       "  <thead>\n",
       "    <tr style=\"text-align: right;\">\n",
       "      <th></th>\n",
       "      <th>site1</th>\n",
       "      <th>time1</th>\n",
       "      <th>site2</th>\n",
       "      <th>time2</th>\n",
       "      <th>site3</th>\n",
       "      <th>time3</th>\n",
       "      <th>site4</th>\n",
       "      <th>time4</th>\n",
       "      <th>site5</th>\n",
       "      <th>time5</th>\n",
       "      <th>site6</th>\n",
       "      <th>time6</th>\n",
       "      <th>site7</th>\n",
       "      <th>time7</th>\n",
       "      <th>site8</th>\n",
       "      <th>time8</th>\n",
       "      <th>site9</th>\n",
       "      <th>time9</th>\n",
       "      <th>site10</th>\n",
       "      <th>time10</th>\n",
       "      <th>target</th>\n",
       "    </tr>\n",
       "    <tr>\n",
       "      <th>session_id</th>\n",
       "      <th></th>\n",
       "      <th></th>\n",
       "      <th></th>\n",
       "      <th></th>\n",
       "      <th></th>\n",
       "      <th></th>\n",
       "      <th></th>\n",
       "      <th></th>\n",
       "      <th></th>\n",
       "      <th></th>\n",
       "      <th></th>\n",
       "      <th></th>\n",
       "      <th></th>\n",
       "      <th></th>\n",
       "      <th></th>\n",
       "      <th></th>\n",
       "      <th></th>\n",
       "      <th></th>\n",
       "      <th></th>\n",
       "      <th></th>\n",
       "      <th></th>\n",
       "    </tr>\n",
       "  </thead>\n",
       "  <tbody>\n",
       "    <tr>\n",
       "      <th>21669</th>\n",
       "      <td>56</td>\n",
       "      <td>2013-01-12 08:05:57</td>\n",
       "      <td>55.0</td>\n",
       "      <td>2013-01-12 08:05:57</td>\n",
       "      <td>NaN</td>\n",
       "      <td>NaT</td>\n",
       "      <td>NaN</td>\n",
       "      <td>NaT</td>\n",
       "      <td>NaN</td>\n",
       "      <td>NaT</td>\n",
       "      <td>NaN</td>\n",
       "      <td>NaT</td>\n",
       "      <td>NaN</td>\n",
       "      <td>NaT</td>\n",
       "      <td>NaN</td>\n",
       "      <td>NaT</td>\n",
       "      <td>NaN</td>\n",
       "      <td>NaT</td>\n",
       "      <td>NaN</td>\n",
       "      <td>NaT</td>\n",
       "      <td>0</td>\n",
       "    </tr>\n",
       "    <tr>\n",
       "      <th>54843</th>\n",
       "      <td>56</td>\n",
       "      <td>2013-01-12 08:37:23</td>\n",
       "      <td>55.0</td>\n",
       "      <td>2013-01-12 08:37:23</td>\n",
       "      <td>56.0</td>\n",
       "      <td>2013-01-12 09:07:07</td>\n",
       "      <td>55.0</td>\n",
       "      <td>2013-01-12 09:07:09</td>\n",
       "      <td>NaN</td>\n",
       "      <td>NaT</td>\n",
       "      <td>NaN</td>\n",
       "      <td>NaT</td>\n",
       "      <td>NaN</td>\n",
       "      <td>NaT</td>\n",
       "      <td>NaN</td>\n",
       "      <td>NaT</td>\n",
       "      <td>NaN</td>\n",
       "      <td>NaT</td>\n",
       "      <td>NaN</td>\n",
       "      <td>NaT</td>\n",
       "      <td>0</td>\n",
       "    </tr>\n",
       "    <tr>\n",
       "      <th>77292</th>\n",
       "      <td>946</td>\n",
       "      <td>2013-01-12 08:50:13</td>\n",
       "      <td>946.0</td>\n",
       "      <td>2013-01-12 08:50:14</td>\n",
       "      <td>951.0</td>\n",
       "      <td>2013-01-12 08:50:15</td>\n",
       "      <td>946.0</td>\n",
       "      <td>2013-01-12 08:50:15</td>\n",
       "      <td>946.0</td>\n",
       "      <td>2013-01-12 08:50:16</td>\n",
       "      <td>945.0</td>\n",
       "      <td>2013-01-12 08:50:16</td>\n",
       "      <td>948.0</td>\n",
       "      <td>2013-01-12 08:50:16</td>\n",
       "      <td>784.0</td>\n",
       "      <td>2013-01-12 08:50:16</td>\n",
       "      <td>949.0</td>\n",
       "      <td>2013-01-12 08:50:17</td>\n",
       "      <td>946.0</td>\n",
       "      <td>2013-01-12 08:50:17</td>\n",
       "      <td>0</td>\n",
       "    </tr>\n",
       "    <tr>\n",
       "      <th>114021</th>\n",
       "      <td>945</td>\n",
       "      <td>2013-01-12 08:50:17</td>\n",
       "      <td>948.0</td>\n",
       "      <td>2013-01-12 08:50:17</td>\n",
       "      <td>949.0</td>\n",
       "      <td>2013-01-12 08:50:18</td>\n",
       "      <td>948.0</td>\n",
       "      <td>2013-01-12 08:50:18</td>\n",
       "      <td>945.0</td>\n",
       "      <td>2013-01-12 08:50:18</td>\n",
       "      <td>946.0</td>\n",
       "      <td>2013-01-12 08:50:18</td>\n",
       "      <td>947.0</td>\n",
       "      <td>2013-01-12 08:50:19</td>\n",
       "      <td>945.0</td>\n",
       "      <td>2013-01-12 08:50:19</td>\n",
       "      <td>946.0</td>\n",
       "      <td>2013-01-12 08:50:19</td>\n",
       "      <td>946.0</td>\n",
       "      <td>2013-01-12 08:50:20</td>\n",
       "      <td>0</td>\n",
       "    </tr>\n",
       "    <tr>\n",
       "      <th>146670</th>\n",
       "      <td>947</td>\n",
       "      <td>2013-01-12 08:50:20</td>\n",
       "      <td>950.0</td>\n",
       "      <td>2013-01-12 08:50:20</td>\n",
       "      <td>948.0</td>\n",
       "      <td>2013-01-12 08:50:20</td>\n",
       "      <td>947.0</td>\n",
       "      <td>2013-01-12 08:50:21</td>\n",
       "      <td>950.0</td>\n",
       "      <td>2013-01-12 08:50:21</td>\n",
       "      <td>952.0</td>\n",
       "      <td>2013-01-12 08:50:21</td>\n",
       "      <td>946.0</td>\n",
       "      <td>2013-01-12 08:50:21</td>\n",
       "      <td>951.0</td>\n",
       "      <td>2013-01-12 08:50:22</td>\n",
       "      <td>946.0</td>\n",
       "      <td>2013-01-12 08:50:22</td>\n",
       "      <td>947.0</td>\n",
       "      <td>2013-01-12 08:50:22</td>\n",
       "      <td>0</td>\n",
       "    </tr>\n",
       "  </tbody>\n",
       "</table>\n",
       "</div>"
      ],
      "text/plain": [
       "            site1               time1  site2               time2  site3               time3  site4               time4  site5               time5  site6               time6  site7               time7  site8               time8  site9               time9  site10              time10  target\n",
       "session_id                                                                                                                                                                                                                                                                                       \n",
       "21669          56 2013-01-12 08:05:57   55.0 2013-01-12 08:05:57    NaN                 NaT    NaN                 NaT    NaN                 NaT    NaN                 NaT    NaN                 NaT    NaN                 NaT    NaN                 NaT     NaN                 NaT       0\n",
       "54843          56 2013-01-12 08:37:23   55.0 2013-01-12 08:37:23   56.0 2013-01-12 09:07:07   55.0 2013-01-12 09:07:09    NaN                 NaT    NaN                 NaT    NaN                 NaT    NaN                 NaT    NaN                 NaT     NaN                 NaT       0\n",
       "77292         946 2013-01-12 08:50:13  946.0 2013-01-12 08:50:14  951.0 2013-01-12 08:50:15  946.0 2013-01-12 08:50:15  946.0 2013-01-12 08:50:16  945.0 2013-01-12 08:50:16  948.0 2013-01-12 08:50:16  784.0 2013-01-12 08:50:16  949.0 2013-01-12 08:50:17   946.0 2013-01-12 08:50:17       0\n",
       "114021        945 2013-01-12 08:50:17  948.0 2013-01-12 08:50:17  949.0 2013-01-12 08:50:18  948.0 2013-01-12 08:50:18  945.0 2013-01-12 08:50:18  946.0 2013-01-12 08:50:18  947.0 2013-01-12 08:50:19  945.0 2013-01-12 08:50:19  946.0 2013-01-12 08:50:19   946.0 2013-01-12 08:50:20       0\n",
       "146670        947 2013-01-12 08:50:20  950.0 2013-01-12 08:50:20  948.0 2013-01-12 08:50:20  947.0 2013-01-12 08:50:21  950.0 2013-01-12 08:50:21  952.0 2013-01-12 08:50:21  946.0 2013-01-12 08:50:21  951.0 2013-01-12 08:50:22  946.0 2013-01-12 08:50:22   947.0 2013-01-12 08:50:22       0"
      ]
     },
     "execution_count": 6,
     "metadata": {},
     "output_type": "execute_result"
    }
   ],
   "source": [
    "# Информация о сессиях\n",
    "df_train.head()"
   ]
  },
  {
   "cell_type": "markdown",
   "metadata": {},
   "source": [
    "## Пропуски в данных"
   ]
  },
  {
   "cell_type": "markdown",
   "metadata": {},
   "source": [
    "### Train"
   ]
  },
  {
   "cell_type": "code",
   "execution_count": 7,
   "metadata": {
    "scrolled": true
   },
   "outputs": [
    {
     "data": {
      "text/html": [
       "<div>\n",
       "<style scoped>\n",
       "    .dataframe tbody tr th:only-of-type {\n",
       "        vertical-align: middle;\n",
       "    }\n",
       "\n",
       "    .dataframe tbody tr th {\n",
       "        vertical-align: top;\n",
       "    }\n",
       "\n",
       "    .dataframe thead th {\n",
       "        text-align: right;\n",
       "    }\n",
       "</style>\n",
       "<table border=\"1\" class=\"dataframe\">\n",
       "  <thead>\n",
       "    <tr style=\"text-align: right;\">\n",
       "      <th></th>\n",
       "      <th>Column</th>\n",
       "      <th>NaN_percentage</th>\n",
       "      <th>Number of unique elements</th>\n",
       "      <th>Data type</th>\n",
       "    </tr>\n",
       "  </thead>\n",
       "  <tbody>\n",
       "    <tr>\n",
       "      <th>0</th>\n",
       "      <td>site1</td>\n",
       "      <td>0.000000</td>\n",
       "      <td>15765</td>\n",
       "      <td>int64</td>\n",
       "    </tr>\n",
       "    <tr>\n",
       "      <th>1</th>\n",
       "      <td>time1</td>\n",
       "      <td>0.000000</td>\n",
       "      <td>236707</td>\n",
       "      <td>datetime64[ns]</td>\n",
       "    </tr>\n",
       "    <tr>\n",
       "      <th>2</th>\n",
       "      <td>site2</td>\n",
       "      <td>1.365746</td>\n",
       "      <td>15821</td>\n",
       "      <td>float64</td>\n",
       "    </tr>\n",
       "    <tr>\n",
       "      <th>3</th>\n",
       "      <td>time2</td>\n",
       "      <td>1.365746</td>\n",
       "      <td>233597</td>\n",
       "      <td>datetime64[ns]</td>\n",
       "    </tr>\n",
       "    <tr>\n",
       "      <th>4</th>\n",
       "      <td>site3</td>\n",
       "      <td>2.619488</td>\n",
       "      <td>15759</td>\n",
       "      <td>float64</td>\n",
       "    </tr>\n",
       "    <tr>\n",
       "      <th>5</th>\n",
       "      <td>time3</td>\n",
       "      <td>2.619488</td>\n",
       "      <td>230761</td>\n",
       "      <td>datetime64[ns]</td>\n",
       "    </tr>\n",
       "    <tr>\n",
       "      <th>6</th>\n",
       "      <td>site4</td>\n",
       "      <td>3.644094</td>\n",
       "      <td>15775</td>\n",
       "      <td>float64</td>\n",
       "    </tr>\n",
       "    <tr>\n",
       "      <th>7</th>\n",
       "      <td>time4</td>\n",
       "      <td>3.644094</td>\n",
       "      <td>228188</td>\n",
       "      <td>datetime64[ns]</td>\n",
       "    </tr>\n",
       "    <tr>\n",
       "      <th>8</th>\n",
       "      <td>site5</td>\n",
       "      <td>4.626895</td>\n",
       "      <td>15840</td>\n",
       "      <td>float64</td>\n",
       "    </tr>\n",
       "    <tr>\n",
       "      <th>9</th>\n",
       "      <td>time5</td>\n",
       "      <td>4.626895</td>\n",
       "      <td>225795</td>\n",
       "      <td>datetime64[ns]</td>\n",
       "    </tr>\n",
       "    <tr>\n",
       "      <th>10</th>\n",
       "      <td>site6</td>\n",
       "      <td>5.547383</td>\n",
       "      <td>15768</td>\n",
       "      <td>float64</td>\n",
       "    </tr>\n",
       "    <tr>\n",
       "      <th>11</th>\n",
       "      <td>time6</td>\n",
       "      <td>5.547383</td>\n",
       "      <td>223712</td>\n",
       "      <td>datetime64[ns]</td>\n",
       "    </tr>\n",
       "    <tr>\n",
       "      <th>12</th>\n",
       "      <td>site7</td>\n",
       "      <td>6.414236</td>\n",
       "      <td>15772</td>\n",
       "      <td>float64</td>\n",
       "    </tr>\n",
       "    <tr>\n",
       "      <th>13</th>\n",
       "      <td>time7</td>\n",
       "      <td>6.414236</td>\n",
       "      <td>221851</td>\n",
       "      <td>datetime64[ns]</td>\n",
       "    </tr>\n",
       "    <tr>\n",
       "      <th>14</th>\n",
       "      <td>site8</td>\n",
       "      <td>7.231790</td>\n",
       "      <td>15854</td>\n",
       "      <td>float64</td>\n",
       "    </tr>\n",
       "    <tr>\n",
       "      <th>15</th>\n",
       "      <td>time8</td>\n",
       "      <td>7.231790</td>\n",
       "      <td>219987</td>\n",
       "      <td>datetime64[ns]</td>\n",
       "    </tr>\n",
       "    <tr>\n",
       "      <th>16</th>\n",
       "      <td>site9</td>\n",
       "      <td>8.075769</td>\n",
       "      <td>15724</td>\n",
       "      <td>float64</td>\n",
       "    </tr>\n",
       "    <tr>\n",
       "      <th>17</th>\n",
       "      <td>time9</td>\n",
       "      <td>8.075769</td>\n",
       "      <td>218006</td>\n",
       "      <td>datetime64[ns]</td>\n",
       "    </tr>\n",
       "    <tr>\n",
       "      <th>18</th>\n",
       "      <td>site10</td>\n",
       "      <td>8.877154</td>\n",
       "      <td>15675</td>\n",
       "      <td>float64</td>\n",
       "    </tr>\n",
       "    <tr>\n",
       "      <th>19</th>\n",
       "      <td>time10</td>\n",
       "      <td>8.877154</td>\n",
       "      <td>216169</td>\n",
       "      <td>datetime64[ns]</td>\n",
       "    </tr>\n",
       "    <tr>\n",
       "      <th>20</th>\n",
       "      <td>target</td>\n",
       "      <td>0.000000</td>\n",
       "      <td>2</td>\n",
       "      <td>int64</td>\n",
       "    </tr>\n",
       "  </tbody>\n",
       "</table>\n",
       "</div>"
      ],
      "text/plain": [
       "    Column  NaN_percentage  Number of unique elements       Data type\n",
       "0    site1        0.000000                      15765           int64\n",
       "1    time1        0.000000                     236707  datetime64[ns]\n",
       "2    site2        1.365746                      15821         float64\n",
       "3    time2        1.365746                     233597  datetime64[ns]\n",
       "4    site3        2.619488                      15759         float64\n",
       "5    time3        2.619488                     230761  datetime64[ns]\n",
       "6    site4        3.644094                      15775         float64\n",
       "7    time4        3.644094                     228188  datetime64[ns]\n",
       "8    site5        4.626895                      15840         float64\n",
       "9    time5        4.626895                     225795  datetime64[ns]\n",
       "10   site6        5.547383                      15768         float64\n",
       "11   time6        5.547383                     223712  datetime64[ns]\n",
       "12   site7        6.414236                      15772         float64\n",
       "13   time7        6.414236                     221851  datetime64[ns]\n",
       "14   site8        7.231790                      15854         float64\n",
       "15   time8        7.231790                     219987  datetime64[ns]\n",
       "16   site9        8.075769                      15724         float64\n",
       "17   time9        8.075769                     218006  datetime64[ns]\n",
       "18  site10        8.877154                      15675         float64\n",
       "19  time10        8.877154                     216169  datetime64[ns]\n",
       "20  target        0.000000                          2           int64"
      ]
     },
     "execution_count": 7,
     "metadata": {},
     "output_type": "execute_result"
    }
   ],
   "source": [
    "# Все пропуски можно объяснить природой датасета. Отсутствующие поля означают, что в данной сессии не было захода на сайт в timeN\n",
    "# В будущем, на этапе обработки данных эти пропуски будут обработаны\n",
    "pd.DataFrame({'Column': df_train.columns.to_list(),\n",
    "              'NaN_percentage': np.array(df_train.isna().sum().to_list()) / len(df_train) * 100,\n",
    "              'Number of unique elements' : df_train.nunique().to_list(),\n",
    "              'Data type': pd.Series(df_train.columns.to_list()).apply(lambda row: df_train[row].dtype)\n",
    "             })"
   ]
  },
  {
   "cell_type": "markdown",
   "metadata": {},
   "source": [
    "### Test"
   ]
  },
  {
   "cell_type": "code",
   "execution_count": 8,
   "metadata": {},
   "outputs": [
    {
     "data": {
      "text/html": [
       "<div>\n",
       "<style scoped>\n",
       "    .dataframe tbody tr th:only-of-type {\n",
       "        vertical-align: middle;\n",
       "    }\n",
       "\n",
       "    .dataframe tbody tr th {\n",
       "        vertical-align: top;\n",
       "    }\n",
       "\n",
       "    .dataframe thead th {\n",
       "        text-align: right;\n",
       "    }\n",
       "</style>\n",
       "<table border=\"1\" class=\"dataframe\">\n",
       "  <thead>\n",
       "    <tr style=\"text-align: right;\">\n",
       "      <th></th>\n",
       "      <th>Column</th>\n",
       "      <th>NaN_percentage</th>\n",
       "      <th>Number of unique elements</th>\n",
       "      <th>Data type</th>\n",
       "    </tr>\n",
       "  </thead>\n",
       "  <tbody>\n",
       "    <tr>\n",
       "      <th>0</th>\n",
       "      <td>site1</td>\n",
       "      <td>0.000000</td>\n",
       "      <td>6326</td>\n",
       "      <td>int64</td>\n",
       "    </tr>\n",
       "    <tr>\n",
       "      <th>1</th>\n",
       "      <td>time1</td>\n",
       "      <td>0.000000</td>\n",
       "      <td>77269</td>\n",
       "      <td>datetime64[ns]</td>\n",
       "    </tr>\n",
       "    <tr>\n",
       "      <th>2</th>\n",
       "      <td>site2</td>\n",
       "      <td>1.798374</td>\n",
       "      <td>6207</td>\n",
       "      <td>float64</td>\n",
       "    </tr>\n",
       "    <tr>\n",
       "      <th>3</th>\n",
       "      <td>time2</td>\n",
       "      <td>1.798374</td>\n",
       "      <td>75845</td>\n",
       "      <td>datetime64[ns]</td>\n",
       "    </tr>\n",
       "    <tr>\n",
       "      <th>4</th>\n",
       "      <td>site3</td>\n",
       "      <td>3.287559</td>\n",
       "      <td>6138</td>\n",
       "      <td>float64</td>\n",
       "    </tr>\n",
       "    <tr>\n",
       "      <th>5</th>\n",
       "      <td>time3</td>\n",
       "      <td>3.287559</td>\n",
       "      <td>74786</td>\n",
       "      <td>datetime64[ns]</td>\n",
       "    </tr>\n",
       "    <tr>\n",
       "      <th>6</th>\n",
       "      <td>site4</td>\n",
       "      <td>4.366100</td>\n",
       "      <td>6208</td>\n",
       "      <td>float64</td>\n",
       "    </tr>\n",
       "    <tr>\n",
       "      <th>7</th>\n",
       "      <td>time4</td>\n",
       "      <td>4.366100</td>\n",
       "      <td>73967</td>\n",
       "      <td>datetime64[ns]</td>\n",
       "    </tr>\n",
       "    <tr>\n",
       "      <th>8</th>\n",
       "      <td>site5</td>\n",
       "      <td>5.381838</td>\n",
       "      <td>6177</td>\n",
       "      <td>float64</td>\n",
       "    </tr>\n",
       "    <tr>\n",
       "      <th>9</th>\n",
       "      <td>time5</td>\n",
       "      <td>5.381838</td>\n",
       "      <td>73130</td>\n",
       "      <td>datetime64[ns]</td>\n",
       "    </tr>\n",
       "    <tr>\n",
       "      <th>10</th>\n",
       "      <td>site6</td>\n",
       "      <td>6.317862</td>\n",
       "      <td>6115</td>\n",
       "      <td>float64</td>\n",
       "    </tr>\n",
       "    <tr>\n",
       "      <th>11</th>\n",
       "      <td>time6</td>\n",
       "      <td>6.317862</td>\n",
       "      <td>72451</td>\n",
       "      <td>datetime64[ns]</td>\n",
       "    </tr>\n",
       "    <tr>\n",
       "      <th>12</th>\n",
       "      <td>site7</td>\n",
       "      <td>7.194705</td>\n",
       "      <td>6193</td>\n",
       "      <td>float64</td>\n",
       "    </tr>\n",
       "    <tr>\n",
       "      <th>13</th>\n",
       "      <td>time7</td>\n",
       "      <td>7.194705</td>\n",
       "      <td>71864</td>\n",
       "      <td>datetime64[ns]</td>\n",
       "    </tr>\n",
       "    <tr>\n",
       "      <th>14</th>\n",
       "      <td>site8</td>\n",
       "      <td>8.026861</td>\n",
       "      <td>6112</td>\n",
       "      <td>float64</td>\n",
       "    </tr>\n",
       "    <tr>\n",
       "      <th>15</th>\n",
       "      <td>time8</td>\n",
       "      <td>8.026861</td>\n",
       "      <td>71233</td>\n",
       "      <td>datetime64[ns]</td>\n",
       "    </tr>\n",
       "    <tr>\n",
       "      <th>16</th>\n",
       "      <td>site9</td>\n",
       "      <td>8.832446</td>\n",
       "      <td>6211</td>\n",
       "      <td>float64</td>\n",
       "    </tr>\n",
       "    <tr>\n",
       "      <th>17</th>\n",
       "      <td>time9</td>\n",
       "      <td>8.832446</td>\n",
       "      <td>70576</td>\n",
       "      <td>datetime64[ns]</td>\n",
       "    </tr>\n",
       "    <tr>\n",
       "      <th>18</th>\n",
       "      <td>site10</td>\n",
       "      <td>9.651316</td>\n",
       "      <td>6110</td>\n",
       "      <td>float64</td>\n",
       "    </tr>\n",
       "    <tr>\n",
       "      <th>19</th>\n",
       "      <td>time10</td>\n",
       "      <td>9.651316</td>\n",
       "      <td>69833</td>\n",
       "      <td>datetime64[ns]</td>\n",
       "    </tr>\n",
       "  </tbody>\n",
       "</table>\n",
       "</div>"
      ],
      "text/plain": [
       "    Column  NaN_percentage  Number of unique elements       Data type\n",
       "0    site1        0.000000                       6326           int64\n",
       "1    time1        0.000000                      77269  datetime64[ns]\n",
       "2    site2        1.798374                       6207         float64\n",
       "3    time2        1.798374                      75845  datetime64[ns]\n",
       "4    site3        3.287559                       6138         float64\n",
       "5    time3        3.287559                      74786  datetime64[ns]\n",
       "6    site4        4.366100                       6208         float64\n",
       "7    time4        4.366100                      73967  datetime64[ns]\n",
       "8    site5        5.381838                       6177         float64\n",
       "9    time5        5.381838                      73130  datetime64[ns]\n",
       "10   site6        6.317862                       6115         float64\n",
       "11   time6        6.317862                      72451  datetime64[ns]\n",
       "12   site7        7.194705                       6193         float64\n",
       "13   time7        7.194705                      71864  datetime64[ns]\n",
       "14   site8        8.026861                       6112         float64\n",
       "15   time8        8.026861                      71233  datetime64[ns]\n",
       "16   site9        8.832446                       6211         float64\n",
       "17   time9        8.832446                      70576  datetime64[ns]\n",
       "18  site10        9.651316                       6110         float64\n",
       "19  time10        9.651316                      69833  datetime64[ns]"
      ]
     },
     "execution_count": 8,
     "metadata": {},
     "output_type": "execute_result"
    }
   ],
   "source": [
    "# Все пропуски можно объяснить природой датасета. Отсутствующие поля означают, что в данной сессии не было захода на сайт в timeN\n",
    "# В будущем, на этапе обработки данных эти пропуски будут обработаны\n",
    "pd.DataFrame({'Column': df_test.columns.to_list(),\n",
    "              'NaN_percentage': np.array(df_test.isna().sum().to_list()) / len(df_test) * 100,\n",
    "              'Number of unique elements' : df_test.nunique().to_list(),\n",
    "              'Data type': pd.Series(df_test.columns.to_list()).apply(lambda row: df_test[row].dtype)\n",
    "             })"
   ]
  },
  {
   "cell_type": "markdown",
   "metadata": {},
   "source": [
    "## Баланс классов"
   ]
  },
  {
   "cell_type": "code",
   "execution_count": 9,
   "metadata": {},
   "outputs": [
    {
     "data": {
      "image/png": "[encoded data removed]",
      "text/plain": [
       "<Figure size 432x288 with 1 Axes>"
      ]
     },
     "metadata": {
      "needs_background": "light"
     },
     "output_type": "display_data"
    }
   ],
   "source": [
    "# Видим, что классы несбалансированны\n",
    "sns.countplot(x = 'target', data = df_train);"
   ]
  },
  {
   "cell_type": "markdown",
   "metadata": {},
   "source": [
    "# Обработка данных"
   ]
  },
  {
   "cell_type": "code",
   "execution_count": 10,
   "metadata": {},
   "outputs": [],
   "source": [
    "def process_site_dictionary(id_site):\n",
    "    \n",
    "    for k in id_site:\n",
    "        \n",
    "        id_site[k] = id_site[k].replace('www.','')\n",
    "        \n",
    "        if 'cedexis-radar.net' in id_site[k]:\n",
    "            id_site[k] = 'cedexis-radar.net'\n",
    "        \n",
    "#         domain = tldextract.extract(id_site[k]).domain\n",
    "#         suffix = tldextract.extract(id_site[k]).suffix\n",
    "        \n",
    "#         id_site[k] = '{}.{}'.format(domain, suffix)\n",
    "        \n",
    "    return id_site\n",
    "    "
   ]
  },
  {
   "cell_type": "code",
   "execution_count": 11,
   "metadata": {},
   "outputs": [],
   "source": [
    "id_site = process_site_dictionary(id_site.copy())"
   ]
  },
  {
   "cell_type": "code",
   "execution_count": 13,
   "metadata": {},
   "outputs": [],
   "source": [
    "class TextDataPreparator(BaseEstimator, TransformerMixin):\n",
    "    \n",
    "    def fit(self, X, y=None):\n",
    "        return self\n",
    "    \n",
    "    def transform(self, X, y=None):\n",
    "        \n",
    "        sites = ['site' + str(i) for i in range(1, 11)]\n",
    "               \n",
    "        X = X[sites].fillna(0).astype('int').apply(lambda row:' '.join([id_site[i] for i in row]), axis=1).tolist()\n",
    "        \n",
    "        return X\n",
    "    \n",
    "vectorizer_params={'ngram_range': (1, 4), \n",
    "                   'max_features': 36000,\n",
    "                   'tokenizer': lambda s: s.split(),\n",
    "                   'min_df':3\n",
    "                  }\n",
    "\n",
    "vectorizer_pipeline = Pipeline([\n",
    "    ('text_data_preparation', TextDataPreparator()),\n",
    "    ('tfidf_vectorizer', TfidfVectorizer(**vectorizer_params))\n",
    "])"
   ]
  },
  {
   "cell_type": "markdown",
   "metadata": {},
   "source": [
    "### Пайплайн для выделения новых признаков из времени (one-hot)"
   ]
  },
  {
   "cell_type": "code",
   "execution_count": 14,
   "metadata": {},
   "outputs": [],
   "source": [
    "# Преобразование hour, day_of_week, month, year через one-hot encoding показывает хорошие результаты\n",
    "# по сравнению с их стандартным предста\n",
    "class PrepareToOneHotExtractor(BaseEstimator, TransformerMixin):\n",
    "    \n",
    "    def fit(self, X, y=None):\n",
    "        return self\n",
    "    \n",
    "    def transform(self, X, y=None):\n",
    "        \n",
    "        times = ['time' + str(i) for i in range(1, 11)]\n",
    "        \n",
    "        hour = X['time1'].apply(lambda ts: ts.hour)\n",
    "                    \n",
    "        day_of_week = (X['time1'].dt.dayofweek).astype(int)\n",
    "                \n",
    "        month = (X['time1'].dt.month).astype(int) \n",
    "        \n",
    "        year = (X['time1'].dt.year).astype(int)\n",
    "             \n",
    "       \n",
    "        X = np.stack((day_of_week, month, year), axis = 1)\n",
    "        \n",
    "        return X"
   ]
  },
  {
   "cell_type": "code",
   "execution_count": 15,
   "metadata": {},
   "outputs": [],
   "source": [
    "time_one_hot_feature_extractort_pipeline = Pipeline([\n",
    "    ('prepare_to_one_hot_extractor', PrepareToOneHotExtractor()),\n",
    "    ('one_hot_encoder', OneHotEncoder())\n",
    "])"
   ]
  },
  {
   "cell_type": "markdown",
   "metadata": {},
   "source": [
    "### Пайплайн для выделения новых признаков из времени"
   ]
  },
  {
   "cell_type": "code",
   "execution_count": 107,
   "metadata": {},
   "outputs": [],
   "source": [
    "def make_harmonic_features_cos(value, period=24):\n",
    "    value *= 2 * np.pi / period \n",
    "    return np.cos(value)\n",
    "\n",
    "def make_harmonic_features_sin(value, period=24):\n",
    "    value *= 2 * np.pi / period \n",
    "    return np.sin(value)"
   ]
  },
  {
   "cell_type": "code",
   "execution_count": 108,
   "metadata": {},
   "outputs": [],
   "source": [
    "class TimeFeatureExtractor(BaseEstimator, TransformerMixin):\n",
    "    \n",
    "    def fit(self, X, y=None):\n",
    "        return self\n",
    "    \n",
    "    def transform(self, X, y=None):\n",
    "        \n",
    "        hour = X['time1'].apply(lambda ts: ts.hour) # Только для других признаков\n",
    "        \n",
    "        hour_cos = hour.apply(lambda hour: make_harmonic_features_cos(hour)).values\n",
    "        hour_sin = hour.apply(lambda hour: make_harmonic_features_sin(hour)).values\n",
    "        \n",
    "        morning = hour.apply(lambda hour: int(hour >= 7 and hour <= 11 )) \n",
    "        midday = hour.apply(lambda hour: int(hour >= 12 and hour <= 18)) \n",
    "        evening = hour.apply(lambda hour: int(hour >= 19 and hour <= 23))\n",
    "        night = hour.apply(lambda hour: int(hour >= 0 and hour <= 6))\n",
    "        \n",
    "        weekend = (X['time1'].dt.dayofweek >= 5).astype(int)\n",
    "                   \n",
    "        month = (X['time1'].dt.month).astype(int) # Только для других признаков\n",
    "        winter = month.apply(lambda month: int(month in [12,1,2])) \n",
    "        spring = month.apply(lambda month: int(month in [3,4,5])) \n",
    "        summer = month.apply(lambda month: int(month in [6,7,8])) \n",
    "        fall = month.apply(lambda month: int(month in [9,10,11])) \n",
    "              \n",
    "        \n",
    "        X = np.stack((hour_cos, hour_sin, morning, midday, evening, night, weekend, winter, spring, summer, fall), axis = 1)\n",
    "        \n",
    "        return X"
   ]
  },
  {
   "cell_type": "code",
   "execution_count": 109,
   "metadata": {},
   "outputs": [],
   "source": [
    "time_feature_extractor_pipeline = Pipeline([\n",
    "    ('time_feature_extractor', TimeFeatureExtractor())\n",
    "])"
   ]
  },
  {
   "cell_type": "markdown",
   "metadata": {},
   "source": [
    "### Пайплайн для выделения новых признаков из сессии в целом"
   ]
  },
  {
   "cell_type": "code",
   "execution_count": 110,
   "metadata": {},
   "outputs": [],
   "source": [
    "def get_time_diff(row): \n",
    "    time_length = row.shape[0] - 1 \n",
    "    time_diff = [0] * time_length \n",
    "    i = 0 \n",
    "    while (i < time_length):\n",
    "        if pd.notnull(row[i+1]):\n",
    "            time_diff[i] = (row[i+1] - row[i]) / np.timedelta64(1,'s') \n",
    "        else:\n",
    "            time_diff[i] = 0\n",
    "        i += 1 \n",
    "    return time_diff"
   ]
  },
  {
   "cell_type": "code",
   "execution_count": 111,
   "metadata": {},
   "outputs": [],
   "source": [
    "class SessionFeatureExtractor(BaseEstimator, TransformerMixin):\n",
    "    \n",
    "    def fit(self, X, y=None):\n",
    "        return self\n",
    "    \n",
    "    def transform(self, X, y=None):\n",
    "        \n",
    "        sites = ['site' + str(i) for i in range(1, 11)]\n",
    "        times = ['time' + str(i) for i in range(1, 11)]\n",
    "        \n",
    "        # Длительность сессии в миллисекундах (логарифмирована для нормализации)\n",
    "        #session_duration_normalized = np.log((X[times].max(axis=1) - X[times].min(axis=1)).astype('timedelta64[ms]').replace(0,1))\n",
    "        #session_duration_normalized = (X[times].max(axis=1) - X[times].min(axis=1)).astype('timedelta64[ms]').astype(int) ** 0.2\n",
    "        session_duration_normalized = np.log(((X[times].max(axis=1) - X[times].min(axis=1)).astype('timedelta64[ms]') / 1000) + 1)\n",
    "        \n",
    "        time_between = X[times].apply(lambda row: get_time_diff(row), axis = 1)\n",
    "        time_between = np.array([item for item in time_between])\n",
    "        \n",
    "        \n",
    "        seconds = (X[times].max(axis=1) - X[times].min(axis=1)) / np.timedelta64(1, 's')\n",
    "        minutes = ((X[times].max(axis=1) - X[times].min(axis=1)) / np.timedelta64(1, 'm')).round(2)\n",
    "        \n",
    "        # Количество уникальных сайтов\n",
    "        unqique_sites = X[sites].apply(lambda row: len(set(filter(lambda site: pd.isna(site) == False, row))), axis = 1)\n",
    "        \n",
    "        # Количество пустых ячеек с сайтами\n",
    "        null_sites_count = X[sites].isnull().sum(axis = 1)\n",
    "        \n",
    "        # Количество посещенных сайтов за сессию\n",
    "        sites_count = 10 - null_sites_count\n",
    "        \n",
    "        # Время на один сайт\n",
    "        time_per_site = (seconds / sites_count)\n",
    "        \n",
    "        X = np.stack((\n",
    "                    #seconds,\n",
    "                    session_duration_normalized\n",
    "                    ,unqique_sites\n",
    "                    ,null_sites_count\n",
    "                    ,sites_count\n",
    "                    ,time_per_site\n",
    "        ), axis = 1)\n",
    "        \n",
    "        #X = np.c_[time_between, A]\n",
    "        \n",
    "        return X"
   ]
  },
  {
   "cell_type": "code",
   "execution_count": 112,
   "metadata": {},
   "outputs": [],
   "source": [
    "session_feature_extractor_pipeline = Pipeline([\n",
    "    ('session_feature_extractor', SessionFeatureExtractor())\n",
    "])"
   ]
  },
  {
   "cell_type": "markdown",
   "metadata": {},
   "source": [
    "# Создание модели"
   ]
  },
  {
   "cell_type": "code",
   "execution_count": 113,
   "metadata": {},
   "outputs": [],
   "source": [
    "# Объединение признаков полученных их различных пайплайнов в один датасет\n",
    "full_pipeline = FeatureUnion(transformer_list=[\n",
    "('vectorizer_pipeline', vectorizer_pipeline),\n",
    "('time_one_hot_feature_extractort_pipeline', time_one_hot_feature_extractort_pipeline),\n",
    "('time_feature_extractor_pipeline', time_feature_extractor_pipeline),\n",
    "('session_feature_extractor_pipeline', session_feature_extractor_pipeline)\n",
    "])"
   ]
  },
  {
   "cell_type": "code",
   "execution_count": 136,
   "metadata": {
    "scrolled": true
   },
   "outputs": [
    {
     "name": "stdout",
     "output_type": "stream",
     "text": [
      "Wall time: 7min 15s\n"
     ]
    }
   ],
   "source": [
    "%%time\n",
    "# Получение датасетов для обучения и предсказания\n",
    "X_train = full_pipeline.fit_transform(df_train) # Обработанный обучающий датасет (Готовые признаки)\n",
    "X_test = full_pipeline.transform(df_test) # Обработанный тестовый датасет\n",
    "\n",
    "y_train = df_train[\"target\"].astype('int').values # Таргет"
   ]
  },
  {
   "cell_type": "code",
   "execution_count": 137,
   "metadata": {},
   "outputs": [],
   "source": [
    "# Создание валидационной выборки\n",
    "X_train, X_val, y_train, y_val = train_test_split(X_train, y_train, test_size=0.1, random_state=42)"
   ]
  },
  {
   "cell_type": "code",
   "execution_count": 138,
   "metadata": {},
   "outputs": [],
   "source": [
    "# Фолды для валидации\n",
    "time_split = TimeSeriesSplit(n_splits=10)"
   ]
  },
  {
   "cell_type": "code",
   "execution_count": 139,
   "metadata": {},
   "outputs": [],
   "source": [
    "logit = LogisticRegression(random_state=42)\n",
    "dtr = DecisionTreeClassifier(random_state=42)\n",
    "rf = RandomForestClassifier(random_state=42)\n",
    "#lgbm = LGBMClassifier(random_state=42)"
   ]
  },
  {
   "cell_type": "code",
   "execution_count": 140,
   "metadata": {},
   "outputs": [
    {
     "name": "stdout",
     "output_type": "stream",
     "text": [
      "Model: LogisticRegression. cv_score_mean: 0.9589103748511498\n",
      "Wall time: 23.8 s\n"
     ]
    }
   ],
   "source": [
    "%%time\n",
    "# Результаты моделей на кросс-валидации\n",
    "for estimator in [logit]:\n",
    "    cv_scores = cross_val_score(estimator, X_train, y_train, cv=time_split, \n",
    "                        scoring='roc_auc', n_jobs=3)\n",
    "    \n",
    "    model_type = str(type(estimator)).split('.')[-1].replace(\"'>\",'') # Выделение названия модели из type(model)\n",
    "\n",
    "    cv_scores.mean()\n",
    "    print('Model: {}. cv_score_mean: {}'.format(model_type,cv_scores.mean()))"
   ]
  },
  {
   "cell_type": "markdown",
   "metadata": {},
   "source": [
    "## Обучение"
   ]
  },
  {
   "cell_type": "markdown",
   "metadata": {},
   "source": [
    "#### Logistic Regression"
   ]
  },
  {
   "cell_type": "code",
   "execution_count": 141,
   "metadata": {},
   "outputs": [
    {
     "name": "stdout",
     "output_type": "stream",
     "text": [
      "Fitting 10 folds for each of 12 candidates, totalling 120 fits\n"
     ]
    },
    {
     "name": "stderr",
     "output_type": "stream",
     "text": [
      "[Parallel(n_jobs=7)]: Using backend LokyBackend with 7 concurrent workers.\n",
      "[Parallel(n_jobs=7)]: Done  36 tasks      | elapsed:   54.3s\n",
      "[Parallel(n_jobs=7)]: Done 120 out of 120 | elapsed:  5.5min finished\n"
     ]
    },
    {
     "name": "stdout",
     "output_type": "stream",
     "text": [
      "AUC:  0.9833326168690446\n",
      "Best params:  {'C': 10.0, 'dual': False, 'max_iter': 100, 'solver': 'liblinear', 'tol': 0.0001}\n"
     ]
    }
   ],
   "source": [
    "logit_grid_searcher = GridSearchCV(estimator=logit \n",
    "                                        ,param_grid={\n",
    "                                                     'C': list(np.linspace(0, 10, 12))\n",
    "                                                    #'C': [4.777777777777778]\n",
    "                                                    ,'solver': ['liblinear']\n",
    "                                                    ,'dual':[False]\n",
    "                                                    ,'max_iter':[100]\n",
    "                                                    ,'tol': [0.0001]\n",
    "                                                             }\n",
    "                                        ,scoring='roc_auc'\n",
    "                                        ,n_jobs=7\n",
    "                                        ,cv=time_split \n",
    "                                        ,verbose=1)\n",
    "\n",
    "logit_grid_searcher.fit(X_train, y_train)\n",
    "\n",
    "print('AUC: ', logit_grid_searcher.best_score_)\n",
    "print('Best params: ', logit_grid_searcher.best_params_)"
   ]
  },
  {
   "cell_type": "markdown",
   "metadata": {},
   "source": [
    "### Валидация"
   ]
  },
  {
   "cell_type": "code",
   "execution_count": 142,
   "metadata": {},
   "outputs": [],
   "source": [
    "from sklearn.metrics import roc_auc_score, make_scorer"
   ]
  },
  {
   "cell_type": "code",
   "execution_count": 143,
   "metadata": {},
   "outputs": [],
   "source": [
    "val_predictions = logit_grid_searcher.predict_proba(X_val)[:, 1]"
   ]
  },
  {
   "cell_type": "code",
   "execution_count": 144,
   "metadata": {},
   "outputs": [
    {
     "name": "stdout",
     "output_type": "stream",
     "text": [
      "Validation ROC-AUC:  0.9829402484000872\n"
     ]
    }
   ],
   "source": [
    "score = roc_auc_score_auc_score(y_val, val_predictions)\n",
    "print('Validation ROC-AUC: ', score)"
   ]
  },
  {
   "cell_type": "code",
   "execution_count": null,
   "metadata": {},
   "outputs": [],
   "source": [
    "validation_score = [0.9829402484000872]"
   ]
  },
  {
   "cell_type": "markdown",
   "metadata": {},
   "source": [
    "#### LightGBM"
   ]
  },
  {
   "cell_type": "code",
   "execution_count": 121,
   "metadata": {},
   "outputs": [],
   "source": [
    "# lgbm_grid_searcher = RandomizedSearchCV(estimator=lgbm \n",
    "#                                         ,param_distributions={\n",
    "#                                                     'n_estimators': [100, 200, 500]\n",
    "#                                                     ,'max_depth': range(0,7)\n",
    "#                                                     ,'learning_rate' : [0.1,0.05,0.2]\n",
    "#                                                     ,'reg_alpha': list(np.linspace(0, 7, 20))\n",
    "#                                                     ,'reg_lambda': list(np.linspace(0, 7, 20))}\n",
    "#                                         ,scoring='roc_auc'\n",
    "#                                         ,n_jobs=2\n",
    "#                                         ,cv=time_split \n",
    "#                                         ,verbose=1)\n",
    "\n",
    "# lgbm_grid_searcher.fit(X_train, y_train)\n",
    "\n",
    "# print('AUC: ', lgbm_grid_searcher.best_score_)"
   ]
  },
  {
   "cell_type": "markdown",
   "metadata": {},
   "source": [
    "#### Decision Tree"
   ]
  },
  {
   "cell_type": "code",
   "execution_count": 122,
   "metadata": {},
   "outputs": [],
   "source": [
    "# dtr_randomized_searcher = RandomizedSearchCV(estimator = dtr\n",
    "#                                             ,param_distributions={'min_samples_split': np.arange(2,4),\n",
    "#                                                                   'min_samples_leaf': np.arange(1,4),\n",
    "#                                                                    'criterion': ['gini', 'entropy']}\n",
    "#                                             ,scoring='roc_auc'\n",
    "#                                             ,n_jobs=2\n",
    "#                                             ,cv = time_split\n",
    "#                                             ,verbose=1)\n",
    "\n",
    "# dtr_randomized_searcher.fit(X_train, y_train)\n",
    "\n",
    "# print('AUC: ', dtr_randomized_searcher.best_score_)"
   ]
  },
  {
   "cell_type": "markdown",
   "metadata": {},
   "source": [
    "#### Random Forest"
   ]
  },
  {
   "cell_type": "code",
   "execution_count": 123,
   "metadata": {
    "scrolled": true
   },
   "outputs": [],
   "source": [
    "# rf_randomized_searcher = RandomizedSearchCV(estimator = rf\n",
    "#                                             ,param_distributions={'min_samples_split': np.arange(2,4),\n",
    "#                                                                   'min_samples_leaf': np.arange(1,4),\n",
    "#                                                                    'criterion': ['gini', 'entropy']}\n",
    "#                                             ,scoring='roc_auc'\n",
    "#                                             ,n_jobs=2\n",
    "#                                             ,cv = time_split\n",
    "#                                             ,verbose=1)\n",
    "\n",
    "# rf_randomized_searcher.fit(X_train, y_train)\n",
    "\n",
    "# print('AUC: ', rf_randomized_searcher.best_score_)"
   ]
  },
  {
   "cell_type": "markdown",
   "metadata": {},
   "source": [
    "#### Catboost"
   ]
  },
  {
   "cell_type": "code",
   "execution_count": 125,
   "metadata": {},
   "outputs": [],
   "source": [
    "# catboost_cl = CatBoostClassifier(\n",
    "#     random_seed = 42,\n",
    "#     loss_function = 'Logloss',\n",
    "#     eval_metric='AUC',\n",
    "#     reg_lambda = 3.888888888888889\n",
    "# )"
   ]
  },
  {
   "cell_type": "code",
   "execution_count": 126,
   "metadata": {},
   "outputs": [],
   "source": [
    "# catboost_cl_grid_search = catboost_cl.grid_search(param_grid={'reg_lambda':  list(np.linspace(3, 7, 10))},\n",
    "#                         X = X_train,\n",
    "#                         y = y_train)"
   ]
  },
  {
   "cell_type": "code",
   "execution_count": 127,
   "metadata": {},
   "outputs": [],
   "source": [
    "#catboost_cl.fit(X_train, y_train, plot=True)"
   ]
  },
  {
   "cell_type": "markdown",
   "metadata": {},
   "source": [
    "# Стэкинг результатов"
   ]
  },
  {
   "cell_type": "code",
   "execution_count": 128,
   "metadata": {},
   "outputs": [],
   "source": [
    "logit_test_pred = logit_grid_searcher.predict_proba(X_test)[:, 1]\n",
    "#catboost_test_pred = catboost_cl.predict_proba(X_test)[:,1]\n",
    "#lgbm_test_pred = lgbm_grid_searcher.predict_proba(X_test)[:, 1]\n",
    "#rf_test_pred = rf_randomized_searcher.predict_proba(X_test)[:, 1]"
   ]
  },
  {
   "cell_type": "code",
   "execution_count": 129,
   "metadata": {},
   "outputs": [],
   "source": [
    "final_test_pred = logit_test_pred"
   ]
  },
  {
   "cell_type": "markdown",
   "metadata": {},
   "source": [
    "# Сохранение результатов предсказания лучшей модели"
   ]
  },
  {
   "cell_type": "code",
   "execution_count": 130,
   "metadata": {},
   "outputs": [],
   "source": [
    "# Метод для сохранения файла с результатами предсказания для тестового набора\n",
    "def write_to_submission_file(predicted_labels, out_file, target='target', index_label=\"session_id\"):\n",
    "    predicted_df = pd.DataFrame(predicted_labels, index = np.arange(1, predicted_labels.shape[0] + 1), columns=[target])\n",
    "    predicted_df.to_csv(out_file, index_label=index_label)"
   ]
  },
  {
   "cell_type": "code",
   "execution_count": 131,
   "metadata": {},
   "outputs": [],
   "source": [
    "write_to_submission_file(final_test_pred, 'submission_2020_08.csv')"
   ]
  },
  {
   "cell_type": "code",
   "execution_count": 132,
   "metadata": {},
   "outputs": [
    {
     "name": "stdout",
     "output_type": "stream",
     "text": [
      "401 - Unauthorized\n"
     ]
    }
   ],
   "source": [
    "!kaggle competitions submit catch-me-if-you-can-intruder-detection-through-webpage-session-tracking2 -f submission_2020_08.csv -m \"2020_08\""
   ]
  }
 ],
 "metadata": {
  "kernelspec": {
   "display_name": "Python 3",
   "language": "python",
   "name": "python3"
  },
  "language_info": {
   "codemirror_mode": {
    "name": "ipython",
    "version": 3
   },
   "file_extension": ".py",
   "mimetype": "text/x-python",
   "name": "python",
   "nbconvert_exporter": "python",
   "pygments_lexer": "ipython3",
   "version": "3.8.3"
  }
 },
 "nbformat": 4,
 "nbformat_minor": 4
}
